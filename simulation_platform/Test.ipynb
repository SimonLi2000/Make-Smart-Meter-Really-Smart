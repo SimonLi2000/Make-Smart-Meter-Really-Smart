{
 "cells": [
  {
   "cell_type": "markdown",
   "metadata": {},
   "source": [
    "# Load forecasting on Smart Meter"
   ]
  },
  {
   "cell_type": "code",
   "execution_count": null,
   "metadata": {},
   "outputs": [],
   "source": [
    "import os\n",
    "os.environ['CUDA_VISIBLE_DEVICES'] = \"0\"\n",
    "import torch\n",
    "from Data import load_data\n",
    "from Data import setup_seed\n",
    "from Client import Client\n",
    "from Server import Server\n",
    "\n",
    "device = torch.device('cuda' if torch.cuda.is_available() else 'cpu')"
   ]
  },
  {
   "cell_type": "code",
   "execution_count": null,
   "metadata": {},
   "outputs": [],
   "source": [
    "seed = 99\n",
    "\n",
    "rounds= 100\n",
    "# local fine-tuning round for federated learning \n",
    "finetuning_rounds = 30\n",
    "learning_rate = 5e-4\n",
    "mu = 0.5\n",
    "gamma = 0.5"
   ]
  },
  {
   "cell_type": "markdown",
   "metadata": {},
   "source": [
    "### Choose Dataset"
   ]
  },
  {
   "cell_type": "code",
   "execution_count": null,
   "metadata": {},
   "outputs": [],
   "source": [
    "path_BDG2 = 'BDG2_dataset/'\n",
    "\n",
    "choose = ['Hog_office_Bessie', 'Hog_office_Napoleon',\n",
    "          'Hog_office_Sydney', 'Hog_office_Mike',\n",
    "          'Hog_office_Merilyn', 'Hog_education_Donnie',\n",
    "          'Hog_office_Shon', 'Hog_education_Jewel',\n",
    "          'Hog_education_Jordan', 'Hog_office_Myles',\n",
    "          'Hog_office_Almeda', 'Hog_office_Denita',\n",
    "          'Hog_office_Lizzie', 'Hog_office_Mary',\n",
    "          'Hog_office_Betsy', 'Hog_office_Bill',\n",
    "          'Hog_office_Miriam', 'Hog_office_Valda',\n",
    "          'Hog_office_Shawna', 'Hog_office_Shawnna',\n",
    "          'Hog_office_Sherrie', 'Hog_education_Madge',\n",
    "          'Robin_office_Maryann', 'Hog_education_Rachael',\n",
    "          'Robin_office_Antonina', 'Robin_office_Victor',\n",
    "          'Robin_office_Zelma', 'Robin_office_Serena',\n",
    "          'Robin_office_Sammie', 'Robin_office_Addie']\n",
    "    \n",
    "datas = load_data(path=path_BDG2, postfix='*.csv', choose=choose)"
   ]
  },
  {
   "cell_type": "markdown",
   "metadata": {},
   "source": [
    "### Import Data into Smart Meter"
   ]
  },
  {
   "cell_type": "code",
   "execution_count": null,
   "metadata": {},
   "outputs": [],
   "source": [
    "setup_seed(seed)\n",
    "clients = []\n",
    "\n",
    "for i in range(len(choose)):\n",
    "    data = datas[i]\n",
    "    client = Client(data = data,\n",
    "                    datas = datas, \n",
    "                    lr=learning_rate)\n",
    "    clients.append(client)\n",
    "    \n",
    "server = Server(data = datas[0],\n",
    "                datas = datas,\n",
    "                clients = clients, \n",
    "                lr = learning_rate,\n",
    "                rounds = rounds,\n",
    "                mu = mu,\n",
    "                gamma = gamma)"
   ]
  },
  {
   "cell_type": "markdown",
   "metadata": {},
   "source": [
    "### Train and Test Models"
   ]
  },
  {
   "cell_type": "markdown",
   "metadata": {},
   "source": [
    "#### Centralized"
   ]
  },
  {
   "cell_type": "code",
   "execution_count": null,
   "metadata": {},
   "outputs": [],
   "source": [
    "server.centralized_train()"
   ]
  },
  {
   "cell_type": "markdown",
   "metadata": {},
   "source": [
    "#### Local"
   ]
  },
  {
   "cell_type": "code",
   "execution_count": null,
   "metadata": {},
   "outputs": [],
   "source": [
    "server.local_train()"
   ]
  },
  {
   "cell_type": "markdown",
   "metadata": {},
   "source": [
    "#### FedAvg"
   ]
  },
  {
   "cell_type": "code",
   "execution_count": null,
   "metadata": {},
   "outputs": [],
   "source": [
    "server.fed_train()"
   ]
  },
  {
   "cell_type": "markdown",
   "metadata": {},
   "source": [
    "#### Split"
   ]
  },
  {
   "cell_type": "code",
   "execution_count": null,
   "metadata": {},
   "outputs": [],
   "source": [
    "server.split_train()"
   ]
  },
  {
   "cell_type": "markdown",
   "metadata": {},
   "source": [
    "#### SFLV1"
   ]
  },
  {
   "cell_type": "code",
   "execution_count": null,
   "metadata": {},
   "outputs": [],
   "source": [
    "server.sflv1_train()"
   ]
  },
  {
   "cell_type": "markdown",
   "metadata": {},
   "source": [
    "#### SFLV2"
   ]
  },
  {
   "cell_type": "code",
   "execution_count": null,
   "metadata": {},
   "outputs": [],
   "source": [
    "server.sflv2_train()"
   ]
  },
  {
   "cell_type": "markdown",
   "metadata": {},
   "source": [
    "#### Proposed"
   ]
  },
  {
   "cell_type": "code",
   "execution_count": null,
   "metadata": {},
   "outputs": [],
   "source": [
    "server.distillation_train()"
   ]
  }
 ],
 "metadata": {
  "kernelspec": {
   "display_name": "Python 3",
   "language": "python",
   "name": "python3"
  },
  "language_info": {
   "codemirror_mode": {
    "name": "ipython",
    "version": 3
   },
   "file_extension": ".py",
   "mimetype": "text/x-python",
   "name": "python",
   "nbconvert_exporter": "python",
   "pygments_lexer": "ipython3",
   "version": "3.8.10"
  },
  "orig_nbformat": 4
 },
 "nbformat": 4,
 "nbformat_minor": 2
}
